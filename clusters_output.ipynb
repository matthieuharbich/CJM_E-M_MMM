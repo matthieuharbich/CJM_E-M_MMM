{
 "cells": [
  {
   "cell_type": "markdown",
   "metadata": {},
   "source": [
    "\n",
    "- 0: work/job\n",
    "- 1: Eat meal outside of home\n",
    "- 2: Working at home (for pay)\n",
    "- 3: Recreation/Entertainment\n",
    "- 4: Routine shopping\n",
    "- 5: Service Private Vehicle\n",
    "- 6: Attending class\n",
    "- 7: Health Care\n",
    "- 8: Civig/Religious Activities\n",
    "- 9: Household errands\n",
    "- 10: Activity\n",
    "- 11: All other home activities\n",
    "- 12: Visit Friends/Relatives\n",
    "- 13: Picked up passenger\n",
    "- 14: Shopping for major purchases\n",
    "- 15: Personal Business"
   ]
  },
  {
   "cell_type": "code",
   "execution_count": 2,
   "metadata": {
    "collapsed": true
   },
   "outputs": [],
   "source": [
    "import pickle"
   ]
  },
  {
   "cell_type": "code",
   "execution_count": 3,
   "metadata": {
    "collapsed": true
   },
   "outputs": [],
   "source": [
    "pickle_in = open(\"clusters.pickle\",\"rb\")\n",
    "results = pickle.load(pickle_in)"
   ]
  },
  {
   "cell_type": "code",
   "execution_count": 8,
   "metadata": {},
   "outputs": [
    {
     "data": {
      "text/plain": [
       "[11, 0, 11]"
      ]
     },
     "execution_count": 8,
     "metadata": {},
     "output_type": "execute_result"
    }
   ],
   "source": [
    "k = 2\n",
    "\n",
    "results[k][0]"
   ]
  },
  {
   "cell_type": "code",
   "execution_count": 5,
   "metadata": {},
   "outputs": [
    {
     "data": {
      "text/plain": [
       "[11, 3, 11]"
      ]
     },
     "execution_count": 5,
     "metadata": {},
     "output_type": "execute_result"
    }
   ],
   "source": [
    "results[k][200]"
   ]
  },
  {
   "cell_type": "code",
   "execution_count": 6,
   "metadata": {},
   "outputs": [
    {
     "data": {
      "text/plain": [
       "[[11, 3, 11, 3, 11],\n",
       " [11, 3, 11, 3, 11],\n",
       " [11, 3, 11, 3, 11],\n",
       " [11, 3, 11, 3, 11],\n",
       " [11, 3, 11, 3, 11],\n",
       " [11, 3, 11, 3, 11],\n",
       " [11, 3, 11, 3, 11],\n",
       " [11, 3, 11, 3, 11],\n",
       " [11, 3, 11, 3, 11],\n",
       " [11, 3, 11, 3, 11],\n",
       " [11, 3, 11, 3, 11],\n",
       " [11, 3, 11, 3, 11],\n",
       " [11, 3, 11, 3, 11],\n",
       " [11, 3, 11, 3, 11],\n",
       " [11, 3, 11, 3, 11],\n",
       " [11, 3, 11, 3, 11],\n",
       " [11, 3, 11, 3, 11],\n",
       " [11, 3, 11, 3, 11],\n",
       " [11, 3, 11, 3, 11],\n",
       " [11, 3, 11, 3, 11]]"
      ]
     },
     "execution_count": 6,
     "metadata": {},
     "output_type": "execute_result"
    }
   ],
   "source": [
    "results[k][700:720]"
   ]
  },
  {
   "cell_type": "code",
   "execution_count": null,
   "metadata": {
    "collapsed": true
   },
   "outputs": [],
   "source": []
  }
 ],
 "metadata": {
  "kernelspec": {
   "display_name": "Python 3",
   "language": "python",
   "name": "python3"
  },
  "language_info": {
   "codemirror_mode": {
    "name": "ipython",
    "version": 3
   },
   "file_extension": ".py",
   "mimetype": "text/x-python",
   "name": "python",
   "nbconvert_exporter": "python",
   "pygments_lexer": "ipython3",
   "version": "3.5.2"
  }
 },
 "nbformat": 4,
 "nbformat_minor": 2
}
